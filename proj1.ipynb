{
 "cells": [
  {
   "cell_type": "code",
   "execution_count": 57,
   "metadata": {},
   "outputs": [],
   "source": [
    "import csv\n",
    "import requests\n",
    "from pathlib import Path\n",
    "from xml.etree import ElementTree\n",
    "\n",
    "# query string parameters\n",
    "# TODO: separate \"q\" parameter into multiple lines\n",
    "params = {\n",
    "    \"fl\": \"title,packageid\",\n",
    "    \"q\": \"keyword:UMBS OR keyword:\\\"UM Biological Station\\\" OR site:UMBS OR site:\\\"UM Biological Station\\\" OR title:\\\"UMBS\\\" OR organization:\\\"University of Michigan\\\" OR organization:\\\"University of Michigan Biological\\\"\",\n",
    "    \"rows\": \"5000\"  # Assuming we want to capture all relevant datasets up to a 1000. Adjust as needed.\n",
    "    }\n",
    "\n",
    "# calls the API, retrieve the response and store in response variable\n",
    "response = requests.get(\"https://pasta.lternet.edu/package/search/eml\", params=params)\n",
    "if response.status_code != 200:\n",
    "    print(f'Error {response.status_code}')\n",
    "\n",
    "# formats the response in a tree (basically each element is listed sequentially regardess of hierarchy)\n",
    "tree = ElementTree.ElementTree(ElementTree.fromstring(response.content))"
   ]
  },
  {
   "cell_type": "code",
   "execution_count": 58,
   "metadata": {},
   "outputs": [],
   "source": [
    "# each element is a list: [title, url]\n",
    "datasets = []\n",
    "\n",
    "# uses package id to get url for one research (paper)\n",
    "dataset_base = \"https://portal.edirepository.org/nis/metadataviewer?packageid=\"\n",
    "\n",
    "# specifying arg in tree.iter() tells us which tag to start iterating through\n",
    "for title, packageid in tree.iter('document'):\n",
    "    datasets.append([title.text,dataset_base+packageid.text])"
   ]
  },
  {
   "cell_type": "code",
   "execution_count": 59,
   "metadata": {},
   "outputs": [],
   "source": [
    "download_path = Path.cwd() / \"datasets.csv\"\n",
    "\n",
    "# writes to a csv file\n",
    "with download_path.open(\"w\") as d:\n",
    "    writer = csv.writer(d)\n",
    "    writer.writerows(datasets)"
   ]
  }
 ],
 "metadata": {
  "kernelspec": {
   "display_name": "Python 3",
   "language": "python",
   "name": "python3"
  },
  "language_info": {
   "codemirror_mode": {
    "name": "ipython",
    "version": 3
   },
   "file_extension": ".py",
   "mimetype": "text/x-python",
   "name": "python",
   "nbconvert_exporter": "python",
   "pygments_lexer": "ipython3",
   "version": "3.10.12"
  }
 },
 "nbformat": 4,
 "nbformat_minor": 2
}
